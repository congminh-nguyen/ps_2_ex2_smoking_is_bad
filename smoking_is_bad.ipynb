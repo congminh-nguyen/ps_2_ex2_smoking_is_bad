{
 "cells": [
  {
   "cell_type": "markdown",
   "metadata": {},
   "source": [
    "# Smoking is bad"
   ]
  },
  {
   "cell_type": "code",
   "execution_count": null,
   "metadata": {},
   "outputs": [],
   "source": [
    "# TODO: install all the necessary packages\n",
    "import numpy as np\n",
    "import matplotlib.pyplot as plt\n",
    "import polars as pl \n",
    "import seaborn as sns\n",
    "import altair as alt \n",
    "import pandas as pd\n",
    "\n",
    "from utils import *"
   ]
  },
  {
   "cell_type": "code",
   "execution_count": null,
   "metadata": {},
   "outputs": [],
   "source": [
    "# TODO: load the data using the pathlib library to create the path to your data\n",
    "from pathlib import Path\n",
    "\n",
    "base_path = Path(__file__).parent.parent if '__file__' in globals() else Path.cwd().parent\n",
    "path = base_path / \"ps_2_ex2_smoking_is_bad\" / \"data\" / \"smoking_data.csv\"\n",
    "print(path)\n",
    "\n",
    "df = pl.read_csv(path) \n",
    "\n",
    "df = pl.DataFrame(df)"
   ]
  },
  {
   "cell_type": "code",
   "execution_count": null,
   "metadata": {},
   "outputs": [],
   "source": [
    "# TODO: what are the dimensions of the data frame?\n",
    "print(df.shape)\n",
    "#output: (1314, 6)"
   ]
  },
  {
   "cell_type": "code",
   "execution_count": null,
   "metadata": {},
   "outputs": [],
   "source": [
    "# TODO: use .describe() on your data frame: what do you notice about the string columns?\n",
    "print(df.describe())\n",
    "\n",
    "print(df.head(15))"
   ]
  },
  {
   "cell_type": "code",
   "execution_count": null,
   "metadata": {},
   "outputs": [],
   "source": [
    "# TODO: do not forget to check the null values\n",
    "df.null_count()\n",
    "#salary column has 700 null values \n"
   ]
  },
  {
   "cell_type": "code",
   "execution_count": null,
   "metadata": {},
   "outputs": [],
   "source": [
    "# TODO: prepare your data frame so that you can work with\n",
    "# remove the salary column as has no contribution to the analysis\n",
    "df_s = df.drop(\"salary\")\n",
    "\n",
    "#in 'smoker' column turn Yes to 1 and No to 0\n",
    "df_s = df_s.with_columns(df_s[\"smoker\"].replace(\"Yes\", 1).replace(\"No\", 0).alias(\"smoker\"))\n",
    "\n",
    "#in 'outcome' column turn Alive to 1 and Dead to 0\n",
    "df_s = df_s.with_columns(df_s[\"outcome\"].replace(\"Alive\", 1).replace(\"Dead\", 0).alias(\"outcome\"))\n",
    "\n",
    "#change data types to integers\n",
    "df_s = df_s.with_columns([\n",
    "    df_s[\"age\"].cast(pl.Int64).alias(\"age\"),\n",
    "    df_s[\"outcome\"].cast(pl.Int64).alias(\"outcome\"),\n",
    "    df_s[\"smoker\"].cast(pl.Int64).alias(\"smoker\"),\n",
    "])\n",
    "\n",
    "#rename columns \"smoker\" and \"outcome\" to \"smokes\" and \"alive\"\n",
    "df_s = df_s.rename({\"smoker\": \"smokes\", \"outcome\": \"alive\"})"
   ]
  },
  {
   "cell_type": "markdown",
   "metadata": {},
   "source": [
    "## Smoking analysis\n",
    "Let's first check what your cousin did."
   ]
  },
  {
   "cell_type": "code",
   "execution_count": null,
   "metadata": {},
   "outputs": [],
   "source": [
    "# TODO: Reimplement the small code snippet described in the problem set instructions.\n",
    "#remove columns unimportant to cousins analysis\n",
    "df_c = df_s.drop(\"\", \"age\", \"gender\")\n",
    "\n",
    "#turn dataframe to pandas and test cousin command\n",
    "df_c = pd.DataFrame(df_c)\n",
    "current_columns = df_c.columns\n",
    "df_c = df_c.rename(columns={\n",
    "    current_columns[0]: \"alive\",\n",
    "    current_columns[1]: \"smokes\"\n",
    "})\n",
    "print(df_c.head(15))\n",
    "\n",
    "df_c.groupby([\"smokes\"]).agg(prob=(\"alive\", np.mean))\n"
   ]
  },
  {
   "cell_type": "markdown",
   "metadata": {},
   "source": [
    "You should get the same results."
   ]
  },
  {
   "cell_type": "markdown",
   "metadata": {},
   "source": [
    "# Is smoking really good?\n",
    "Now it is up to you to run the analysis further and check what could be underlying your cousings results."
   ]
  }
 ],
 "metadata": {
  "kernelspec": {
   "display_name": "smoke",
   "language": "python",
   "name": "python3"
  },
  "language_info": {
   "codemirror_mode": {
    "name": "ipython",
    "version": 3
   },
   "file_extension": ".py",
   "mimetype": "text/x-python",
   "name": "python",
   "nbconvert_exporter": "python",
   "pygments_lexer": "ipython3",
   "version": "3.12.7"
  }
 },
 "nbformat": 4,
 "nbformat_minor": 2
}
