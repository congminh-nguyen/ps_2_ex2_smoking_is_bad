{
 "cells": [
  {
   "cell_type": "markdown",
   "metadata": {},
   "source": [
    "# Smoking is bad"
   ]
  },
  {
   "cell_type": "code",
   "execution_count": null,
   "metadata": {},
   "outputs": [],
   "source": [
    "# TODO: install all the necessary packages\n",
    "import numpy as np\n",
    "import matplotlib.pyplot as plt\n",
    "import seaborn as sns\n",
    "import altair as alt \n",
    "import pandas as pd\n",
    "import importlib\n",
    "import utils as u\n",
    "importlib.reload(u)\n",
    "\n",
    "from utils import *"
   ]
  },
  {
   "cell_type": "code",
   "execution_count": null,
   "metadata": {},
   "outputs": [],
   "source": [
    "# TODO: load the data using the pathlib library to create the path to your data\n",
    "from pathlib import Path\n",
    "\n",
    "base_path = Path(__file__).parent.parent if '__file__' in globals() else Path.cwd().parent\n",
    "path = base_path / \"ps_2_ex2_smoking_is_bad\" / \"data\" / \"smoking_data.csv\"\n",
    "print(path)\n",
    "\n",
    "df = pd.read_csv(path) \n",
    "\n",
    "df = pd.DataFrame(df)"
   ]
  },
  {
   "cell_type": "code",
   "execution_count": null,
   "metadata": {},
   "outputs": [],
   "source": [
    "# TODO: what are the dimensions of the data frame?\n",
    "print(df.shape)\n",
    "#output: (1314, 6)"
   ]
  },
  {
   "cell_type": "code",
   "execution_count": null,
   "metadata": {},
   "outputs": [],
   "source": [
    "# TODO: use .describe() on your data frame: what do you notice about the string columns?\n",
    "print(df.describe())\n",
    "\n",
    "print(df.head(15))"
   ]
  },
  {
   "cell_type": "code",
   "execution_count": null,
   "metadata": {},
   "outputs": [],
   "source": [
    "# TODO: do not forget to check the null values\n",
    "null_count = df.isnull().sum()\n",
    "print(null_count)\n",
    "\n",
    "#output: salary column has 700 null values \n"
   ]
  },
  {
   "cell_type": "code",
   "execution_count": null,
   "metadata": {},
   "outputs": [],
   "source": [
    "# TODO: prepare your data frame so that you can work with\n",
    "from utils import *\n",
    "print(df.head(15))\n",
    "\n",
    "data_clean(df)\n",
    "#rename columns\n",
    "df = df.rename(columns={'smoker': 'smokes', 'outcome': 'alive'})\n",
    "\n",
    "print(df.head(15))"
   ]
  },
  {
   "cell_type": "markdown",
   "metadata": {},
   "source": [
    "## Smoking analysis\n",
    "Let's first check what your cousin did."
   ]
  },
  {
   "cell_type": "code",
   "execution_count": null,
   "metadata": {},
   "outputs": [],
   "source": [
    "# TODO: Reimplement the small code snippet described in the problem set instructions.\n",
    "#repeat cousins command\n",
    "df.groupby([\"smokes\"]).agg(prob=(\"alive\", np.mean))\n"
   ]
  },
  {
   "cell_type": "markdown",
   "metadata": {},
   "source": [
    "You should get the same results."
   ]
  },
  {
   "cell_type": "markdown",
   "metadata": {},
   "source": [
    "# Is smoking really good?\n",
    "Now it is up to you to run the analysis further and check what could be underlying your cousings results."
   ]
  },
  {
   "cell_type": "markdown",
   "metadata": {},
   "source": [
    "Summarise the data to see distributions"
   ]
  },
  {
   "cell_type": "code",
   "execution_count": null,
   "metadata": {},
   "outputs": [],
   "source": [
    "import utils as u\n",
    "#summary visualisation\n",
    "u.visualize_data(df)\n",
    "    #output: younger people more likely to be alive, but more observations for younger cohort than older cohort\n"
   ]
  },
  {
   "cell_type": "markdown",
   "metadata": {},
   "source": [
    "Look into the probability of survival for each of the relevant variables (age and smoking - salary exlcuded due the overwhelming number of NaNs)"
   ]
  },
  {
   "cell_type": "code",
   "execution_count": null,
   "metadata": {},
   "outputs": [],
   "source": [
    "import numpy as np\n",
    "from utils import *\n",
    "u.plot_alive_probability_by_age(df, alive_col='alive', age_col='age')\n",
    "    #output: prorbabiltiy of being alive is higher for younger people\n",
    "\n",
    "u.plot_smoker_probability_by_age(df, smokes_col='smokes', age_col='age')\n",
    "    #output: probability of being a smoker is higher for younger people \n"
   ]
  },
  {
   "cell_type": "code",
   "execution_count": null,
   "metadata": {},
   "outputs": [],
   "source": [
    "features = ['age', 'smokes']\n",
    "u.fit_survival_model(df, features)\n",
    "model = fit_survival_model(df, features)\n",
    "\n",
    "u.plot_variable_contributions(model, features)\n",
    "    #output: age has a higher contribution to the survival model than smoking does "
   ]
  }
 ],
 "metadata": {
  "kernelspec": {
   "display_name": "smoke",
   "language": "python",
   "name": "python3"
  },
  "language_info": {
   "codemirror_mode": {
    "name": "ipython",
    "version": 3
   },
   "file_extension": ".py",
   "mimetype": "text/x-python",
   "name": "python",
   "nbconvert_exporter": "python",
   "pygments_lexer": "ipython3",
   "version": "3.12.7"
  }
 },
 "nbformat": 4,
 "nbformat_minor": 2
}
